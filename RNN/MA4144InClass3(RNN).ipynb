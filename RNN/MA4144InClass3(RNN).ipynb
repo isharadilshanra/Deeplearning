{
 "cells": [
  {
   "cell_type": "markdown",
   "id": "dda0e25f-476a-43c0-b3e7-f96a707be566",
   "metadata": {
    "deletable": false,
    "editable": false,
    "slideshow": {
     "slide_type": ""
    },
    "tags": []
   },
   "source": [
    "# <center>Recurrent Neural Networks</center>\n",
    "## <center>Inclass Project 3 - MA4144</center>\n",
    "\n",
    "This project contains multiple tasks to be completed, some require written answers. Open a markdown cell below the respective question that require written answers and provide (type) your answers. Questions that required written answers are given in blue fonts. Almost all written questions are open ended, they do not have a correct or wrong answer. You are free to give your opinions, but please provide related answers within the context.\n",
    "\n",
    "After finishing project run the entire notebook once and **save the notebook as a pdf** (File menu -> Save and Export Notebook As -> PDF). You are **required to upload both this ipynb file and the PDF on moodle**.\n",
    "\n",
    "***"
   ]
  },
  {
   "cell_type": "markdown",
   "id": "03930b71-f7aa-4eb8-a078-70fc89a1ac16",
   "metadata": {
    "deletable": false,
    "editable": false
   },
   "source": [
    "## Outline of the project\n",
    "\n",
    "The aim of the project is to build a RNN model to suggest autocompletion of half typed words. You may have seen this in many day today applications; typing an email, a text message etc. For example, suppose you type in the four letter \"univ\", the application may suggest you to autocomplete it by \"university\".\n",
    "\n",
    "![Autocomplete](https://d33v4339jhl8k0.cloudfront.net/docs/assets/5c12e83004286304a71d5b72/images/66d0cb106eb51e63b8f9fbc6/file-gBQe016VYt.gif)\n",
    "\n",
    "We will train a RNN to suggest possible autocompletes given $3$ - $4$ starting letters. That is if we input a string \"univ\" hopefully we expect to see an output like \"university\", \"universal\" etc.\n",
    "\n",
    "For this we will use a text file (wordlist.txt) containing 10,000 common English words (you'll find the file on the moodle link). The list of words will be the \"**vocabulary**\" for our model.\n",
    "\n",
    "We will use the Python **torch library** to implement our autocomplete model. \n",
    "\n",
    "***\n"
   ]
  },
  {
   "cell_type": "markdown",
   "id": "f4db6bc0-f7e0-473d-a172-e6579deea2ee",
   "metadata": {
    "deletable": false,
    "editable": false
   },
   "source": [
    "Use the below cell to use any include any imports"
   ]
  },
  {
   "cell_type": "code",
   "execution_count": 1,
   "id": "76fdc286-3211-4a8f-9802-29d28a324bea",
   "metadata": {
    "deletable": false
   },
   "outputs": [],
   "source": [
    "import torch\n",
    "import torch.nn as nn\n",
    "import torch.optim as optim\n",
    "import numpy as np\n",
    "import matplotlib.pyplot as plt\n",
    "import random"
   ]
  },
  {
   "cell_type": "markdown",
   "id": "8622b61b-dba8-47bb-8e07-92b77e78f4fa",
   "metadata": {
    "deletable": false,
    "editable": false
   },
   "source": [
    "## Section 1: Preparing the vocabulary"
   ]
  },
  {
   "cell_type": "code",
   "execution_count": 2,
   "id": "555a82e5-e56c-4075-a2a2-071633cd4d4c",
   "metadata": {
    "deletable": false
   },
   "outputs": [],
   "source": [
    "WORD_SIZE = 13"
   ]
  },
  {
   "cell_type": "markdown",
   "id": "ef4f44ef-91d0-4d0e-afb5-a66240c9e1d4",
   "metadata": {
    "deletable": false,
    "editable": false,
    "id": "Instructions"
   },
   "source": [
    "**Q1.** In the following cell provide code to load the text file (each word is in a newline), then extract the words (in lowercase) into a list.\n",
    "\n",
    "For practical reasons of training the model we will only use words that are longer that $3$ letters and that have a maximum length of WORD_SIZE (this will be a constant we set at the beginning - you can change this and experiment with different WORD_SIZEs). As seen above it is set to $13$.\n",
    "\n",
    "So out of the extracted list of words filter out those words that match our criteria on word length.\n",
    "\n",
    "To train our model it is convenient to have words/strings of equal length. We will choose to convert every word to length of WORD_SIZE, by adding underscores to the end of the word if it is initially shorter than WORD_SIZE. For example, we will convert the word \"university\" (word length 10) into \"university___\" (wordlength 13). In your code include this conversion as well.\n",
    "\n",
    "Store the processed WORD_SIZE lengthed strings in a list called vocab."
   ]
  },
  {
   "cell_type": "code",
   "execution_count": 3,
   "id": "3219551c-a298-424a-a491-2d7f65a4ad6f",
   "metadata": {
    "deletable": false
   },
   "outputs": [],
   "source": [
    "#TODO"
   ]
  },
  {
   "cell_type": "markdown",
   "id": "69d3a6fe-c0a7-4808-aa1a-4c3ad6db6de3",
   "metadata": {
    "deletable": false,
    "editable": false
   },
   "source": [
    "<font color='blue'>In the above explanation it was mentioned \"for practical reasons of training the model we will only use words that are longer that $3$ letters and that have a certain maximum length\". In your opinion what could be those practical? Will hit help to build a better model?</font>"
   ]
  },
  {
   "cell_type": "markdown",
   "id": "aaf86cdd-96b2-40eb-8230-c3f04e93cfc4",
   "metadata": {
    "deletable": false,
    "id": "Ans1"
   },
   "source": [
    "**Answer** (to write answers edit this cell)"
   ]
  },
  {
   "cell_type": "markdown",
   "id": "552b2e6d-f771-4782-8b21-73c121565faa",
   "metadata": {
    "deletable": false,
    "editable": false
   },
   "source": [
    "**Q2** To input words into the model, we will need to convert each letter/character into a number. as we have seen above, the only characters in our list vocab will be the underscore and lowercase english letters. so we will convert these $27$ characters into numbers as follows: underscore -> $0$, 'a' -> $1$, 'b' -> $2$, $\\cdots$, 'z' -> $26$. In the following cell,\n",
    "\n",
    "(i) Implement a method called char_to_num, that takes in a valid character and outputs its numerical assignment.\n",
    "\n",
    "(ii) Implement a method called num_to_char, that takes in a valid number from $0$ to $26$ and outputs the corresponding character.\n",
    "\n",
    "(iii) Implement a method called word_to_numlist, that takes in a word from our vocabulary and outputs a (torch) tensor of numbers that corresponds to each character in the word in that order. For example: the word \"united_______\" will be converted to tensor([21, 14,  9, 20,  5,  4,  0,  0,  0,  0,  0,  0,  0]). You are encouraged to use your char_to_num method for this.\n",
    "\n",
    "(iv) Implement a method called numlist_to_word, that does the opposite of the above described word_to_numlist, given a tensor of numbers from $0$ to $26$, outputs the corresponding word. You are encouraged to use your  num_to_char method for this.\n",
    "\n",
    "Note: As mentioned since we are using the torch library we will be using tensors instead of the usual python lists or numpy arrays. Tensors are the list equivalent in torch. Torch models only accept tensors as input and they output tensors."
   ]
  },
  {
   "cell_type": "code",
   "execution_count": 4,
   "id": "054a4ab4-5883-4948-adc5-eb8916b6234d",
   "metadata": {
    "deletable": false
   },
   "outputs": [],
   "source": [
    "def char_to_num(char):\n",
    "\n",
    "    #TODO\n",
    "    \n",
    "    return(num)\n",
    "\n",
    "def num_to_char(num):\n",
    "\n",
    "    #TODO\n",
    "    \n",
    "    return(char)\n",
    "\n",
    "def word_to_numlist(word):\n",
    "\n",
    "    #TODO\n",
    "    \n",
    "    return(numlist)\n",
    "\n",
    "def numlist_to_word(numlist):\n",
    "\n",
    "    #TODO\n",
    "    \n",
    "    return(word)"
   ]
  },
  {
   "cell_type": "markdown",
   "id": "028d1936-fadb-4ddb-9027-3a75960aa6b1",
   "metadata": {
    "deletable": false,
    "editable": false
   },
   "source": [
    "<font color='blue'>We convert letter into just numbers based on their aphabetical order, I claim that it is a very bad way to encode data such as letters to be fed into learning models, please write your explanation to or against my claim. If you are searching for reasons, the keyword 'categorical data' may be useful. Although the letters in our case are not treated as categorical data, the same reasons as for categorical data is applicable. Even if my claim is valid, at the end it won't matter due to something called \"embedding layers\" that we will use in our model. What is an embedding layer? What is it's purpose? Explain.</font>"
   ]
  },
  {
   "cell_type": "markdown",
   "id": "65de3f69-cd06-4adc-8150-2522802f345a",
   "metadata": {
    "deletable": false,
    "id": "Ans2"
   },
   "source": [
    "**Answer** (to write answers edit this cell)"
   ]
  },
  {
   "cell_type": "markdown",
   "id": "92070a74-0f42-435d-a3ba-b38f0d1aaf3c",
   "metadata": {
    "deletable": false,
    "editable": false
   },
   "source": [
    "## Section 2: Implementing the Autocomplete model"
   ]
  },
  {
   "cell_type": "markdown",
   "id": "6cbb965e-afcd-41ae-86f0-2f3d4682e18b",
   "metadata": {
    "deletable": false,
    "editable": false
   },
   "source": [
    "We will implement a RNN LSTM model. The [video tutorial](https://www.youtube.com/watch?v=tL5puCeDr-o) will be useful. Our model will be only one hidden layer, but feel free to sophisticate with more layers after the project for your own experiments.\n",
    "\n",
    "Our model will contain all the training and prediction methods as single package in a class (autocompleteModel) we will define and implement below."
   ]
  },
  {
   "cell_type": "code",
   "execution_count": 8,
   "id": "0dfe311c-669d-4d58-a833-ae3970b6d271",
   "metadata": {
    "deletable": false
   },
   "outputs": [],
   "source": [
    "LEARNING_RATE = 0.005"
   ]
  },
  {
   "cell_type": "code",
   "execution_count": null,
   "id": "4976fc91-2c4e-497a-954e-9014dd31be5e",
   "metadata": {
    "deletable": false
   },
   "outputs": [],
   "source": [
    "class autocompleteModel(nn.Module):\n",
    "\n",
    "    #Constructor\n",
    "    def __init__(self, alphabet_size, embed_dim, hidden_size, num_layers):\n",
    "        super().__init__()\n",
    "\n",
    "        #Set the input parameters to self parameters\n",
    "\n",
    "        #TODO\n",
    "\n",
    "        #Initialize the layers in the model:\n",
    "        #1 embedding layer, 1 - LSTM cell (hidden layer), 1 fully connected layer with linear activation\n",
    "\n",
    "        #TODO\n",
    "\n",
    "    #Feedforward\n",
    "    def forward(self, character, hidden_state, cell_state):\n",
    "\n",
    "        #Perform feedforward in order\n",
    "        #1. Embed the input (one charcter represented by a number)\n",
    "        #2. Feed the embedded output to the LSTM cell\n",
    "        #3. Feed the LSTM output to the fully connected layer to obtain the output\n",
    "        #4. return the output, and both the hidden state and cell state from the LSTM cell output\n",
    "\n",
    "        #TODO\n",
    "        \n",
    "        return output, hidden_state, cell_state\n",
    "\n",
    "    #Intialize the first hidden state and cell state (for the start of a word) as zero tensors of required length.\n",
    "    def initial_state(self):\n",
    "\n",
    "        #TODO\n",
    "        \n",
    "        return (h0, c0)\n",
    "\n",
    "    #Train the model in epochs given the vocab, the training will be fed in batches of batch_size\n",
    "    def trainModel(self, vocab, epochs = 5, batch_size = 100):\n",
    "\n",
    "        #Convert the model into train mode\n",
    "        self.train()\n",
    "\n",
    "        #Set the optimizer (ADAM), you may need to provide the model parameters  and learning rate\n",
    "        #optimizer = \n",
    "\n",
    "        #Keep a log of the loss at the end of each training cycle.\n",
    "        loss_log = []\n",
    "\n",
    "        for e in range(epochs):\n",
    "\n",
    "            #TODO: Shuffle the vocab list the start of each epoch\n",
    "\n",
    "            for i in range(num_iter):\n",
    "\n",
    "                #TODO: Set the loss to zero, initialize the optimizer with zero_grad at the beginning of each training cycle.\n",
    "\n",
    "                for word in vocab_batch:\n",
    "\n",
    "                    #TODO: Initialize the hidden state and cell state at the start of each word.\n",
    "\n",
    "                    #TODO: Convert the word into a tensor of number and create input and target from the word\n",
    "                    #Input will be the first WORD_SIZE - 1 charcters and target is the last WORD_SIZE - 1 charcters\n",
    "\n",
    "                    #Loop through each character (as a number) in the word\n",
    "                    for c in range(WORD_SIZE - 1):\n",
    "                        #TODO: Feed the cth character to the model (feedforward) and comput the loss (use cross entropy in torch)\n",
    "                    \n",
    "\n",
    "                #TODO: Compute the average loss per word in the batch and perform backpropagation (.backward())\n",
    "                    \n",
    "                #TODO: Update model parameters using the optimizer\n",
    "\n",
    "                #Update the loss_log \n",
    "                loss_log.append(loss.item())\n",
    "\n",
    "            print(\"Epoch: \", e)\n",
    "\n",
    "        #TODO Plot a graph of the variation of the loss.\n",
    "\n",
    "    #Perform autocmplete given a sample of strings (typically 3-5 starting letters)\n",
    "    def autocomplete(self, sample):\n",
    "\n",
    "        #Convert the model into evaluation mode\n",
    "        self.eval()\n",
    "\n",
    "        #TODO: In the following loop for each sample item initialize hidden and cell states, then predict the remaining characters\n",
    "        #You will have to convert the output into a softmax (you may use your softmax method from the last project) probability distribution, then use torch.multinomial \n",
    "        for literal in sample:\n",
    "\n",
    "        return(completed_list)"
   ]
  },
  {
   "cell_type": "markdown",
   "id": "1f9b5489-b770-4519-b20c-4f2beebfb8f9",
   "metadata": {
    "deletable": false
   },
   "source": [
    "## Section 3: Using and evaluating the model\n",
    "\n",
    "(i) Initialize and train autocompleteModels using different embedding dimensions and hidden layer sizes. Use different learning rates, epochs, batch sizes. Train the best model you can.\n",
    "\n",
    "(ii) Evaluate it on different samples of partially filled in words to test your model. Eg: [\"univ\", \"math\", \"neur\", \"engin\"] etc.\n",
    "\n",
    "(iii) Set your best model, to the variable best_model. This model will be tested against random inputs (3-4 starting strings of common English words). **This will be the main contributor for your score in this project**."
   ]
  },
  {
   "cell_type": "code",
   "execution_count": 1,
   "id": "5ac2ab12-0cc8-48d1-816f-ab8ec7ac23cd",
   "metadata": {},
   "outputs": [],
   "source": [
    "best_model = None"
   ]
  },
  {
   "cell_type": "code",
   "execution_count": null,
   "id": "c11b1ecf-456c-408c-bb06-6f3ab91234f7",
   "metadata": {},
   "outputs": [],
   "source": []
  }
 ],
 "metadata": {
  "kernelspec": {
   "display_name": "Python 3 (ipykernel)",
   "language": "python",
   "name": "python3"
  },
  "language_info": {
   "codemirror_mode": {
    "name": "ipython",
    "version": 3
   },
   "file_extension": ".py",
   "mimetype": "text/x-python",
   "name": "python",
   "nbconvert_exporter": "python",
   "pygments_lexer": "ipython3",
   "version": "3.10.7"
  }
 },
 "nbformat": 4,
 "nbformat_minor": 5
}
